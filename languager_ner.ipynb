{
 "cells": [
  {
   "cell_type": "code",
   "execution_count": 1,
   "metadata": {},
   "outputs": [],
   "source": [
    "from collections import namedtuple\n",
    "OneWord = namedtuple(\"OneWord\", [\"word\", \"pos_label\", \"chunk_label\", \"entity_label\"])\n"
   ]
  },
  {
   "cell_type": "code",
   "execution_count": 2,
   "metadata": {},
   "outputs": [],
   "source": [
    "def read_conll2003_ner(f_name):\n",
    "    \"\"\"Yield complete sentences with NER labels\"\"\"\n",
    "    current_sentence = []\n",
    "    with open(f_name) as f:\n",
    "        for line in f:\n",
    "            line = line.strip()\n",
    "            if line.startswith(\"-DOCSTART-\"):\n",
    "                continue\n",
    "            if not line:\n",
    "                if current_sentence:\n",
    "                    yield current_sentence\n",
    "                    current_sentence = []\n",
    "                continue\n",
    "            columns = line.split()\n",
    "            assert len(columns) == 4\n",
    "            current_sentence.append(OneWord(*columns))\n",
    "        else:\n",
    "            if current_sentence:\n",
    "                yield current_sentence\n"
   ]
  },
  {
   "cell_type": "code",
   "execution_count": 3,
   "metadata": {},
   "outputs": [],
   "source": [
    "def generate_ner_features(sent):\n",
    "    sent_features = []\n",
    "    for word_idx, one_word in enumerate(sent):\n",
    "        word_features = {}\n",
    "        word = one_word.word\n",
    "        word_features[\"word_\" + word] = 1\n",
    "        word_features[\"lower_word_\" + word.lower()] = 1\n",
    "        word_features[\"is_capitalized\"] = word.istitle()\n",
    "        if word_idx != 0:\n",
    "            word_features[\"prev_word_\" + sent[word_idx - 1].word] = 1\n",
    "        if word_idx != len(sent) - 1:\n",
    "            word_features[\"next_word_\" + sent[word_idx + 1].word] = 1\n",
    "        sent_features.append(word_features)\n",
    "    return sent_features\n"
   ]
  },
  {
   "cell_type": "code",
   "execution_count": 4,
   "metadata": {},
   "outputs": [],
   "source": [
    "def prep_data(sentences):\n",
    "    all_labels = []  # here we gather labels for all words in all sentences\n",
    "    all_features = []  # here we gather features for all words in all sentences\n",
    "    for sentence in sentences:\n",
    "        sent_features = generate_ner_features(sentence)  # Use the NER feature generation function\n",
    "        assert len(sent_features) == len(sentence)\n",
    "        # Now we can get, for every position its label and its features\n",
    "        for one_word, features in zip(sentence, sent_features):\n",
    "            all_labels.append(one_word.entity_label)  # Use entity_label for NER\n",
    "            all_features.append(features)  # and features to go with it\n",
    "    return all_labels, all_features\n"
   ]
  },
  {
   "cell_type": "code",
   "execution_count": 5,
   "metadata": {},
   "outputs": [],
   "source": [
    "from sklearn.feature_extraction import DictVectorizer\n",
    "\n",
    "\n",
    "sentences_train_ner = list(read_conll2003_ner(\"dataset/train.txt\"))\n",
    "sentences_dev_ner = list(read_conll2003_ner(\"dataset/valid.txt\"))\n",
    "\n",
    "train_labels_ner, train_features_ner = prep_data(sentences_train_ner)\n",
    "dev_labels_ner, dev_features_ner = prep_data(sentences_dev_ner)\n",
    "\n",
    "vectorizer_ner = DictVectorizer()\n",
    "vectorizer_ner.fit(train_features_ner)\n",
    "\n",
    "feature_vectors_train_ner = vectorizer_ner.transform(train_features_ner)\n",
    "feature_vectors_dev_ner = vectorizer_ner.transform(dev_features_ner)\n"
   ]
  },
  {
   "cell_type": "code",
   "execution_count": 6,
   "metadata": {},
   "outputs": [
    {
     "name": "stdout",
     "output_type": "stream",
     "text": [
      "[LibLinear]"
     ]
    },
    {
     "data": {
      "text/html": [
       "<style>#sk-container-id-1 {color: black;background-color: white;}#sk-container-id-1 pre{padding: 0;}#sk-container-id-1 div.sk-toggleable {background-color: white;}#sk-container-id-1 label.sk-toggleable__label {cursor: pointer;display: block;width: 100%;margin-bottom: 0;padding: 0.3em;box-sizing: border-box;text-align: center;}#sk-container-id-1 label.sk-toggleable__label-arrow:before {content: \"▸\";float: left;margin-right: 0.25em;color: #696969;}#sk-container-id-1 label.sk-toggleable__label-arrow:hover:before {color: black;}#sk-container-id-1 div.sk-estimator:hover label.sk-toggleable__label-arrow:before {color: black;}#sk-container-id-1 div.sk-toggleable__content {max-height: 0;max-width: 0;overflow: hidden;text-align: left;background-color: #f0f8ff;}#sk-container-id-1 div.sk-toggleable__content pre {margin: 0.2em;color: black;border-radius: 0.25em;background-color: #f0f8ff;}#sk-container-id-1 input.sk-toggleable__control:checked~div.sk-toggleable__content {max-height: 200px;max-width: 100%;overflow: auto;}#sk-container-id-1 input.sk-toggleable__control:checked~label.sk-toggleable__label-arrow:before {content: \"▾\";}#sk-container-id-1 div.sk-estimator input.sk-toggleable__control:checked~label.sk-toggleable__label {background-color: #d4ebff;}#sk-container-id-1 div.sk-label input.sk-toggleable__control:checked~label.sk-toggleable__label {background-color: #d4ebff;}#sk-container-id-1 input.sk-hidden--visually {border: 0;clip: rect(1px 1px 1px 1px);clip: rect(1px, 1px, 1px, 1px);height: 1px;margin: -1px;overflow: hidden;padding: 0;position: absolute;width: 1px;}#sk-container-id-1 div.sk-estimator {font-family: monospace;background-color: #f0f8ff;border: 1px dotted black;border-radius: 0.25em;box-sizing: border-box;margin-bottom: 0.5em;}#sk-container-id-1 div.sk-estimator:hover {background-color: #d4ebff;}#sk-container-id-1 div.sk-parallel-item::after {content: \"\";width: 100%;border-bottom: 1px solid gray;flex-grow: 1;}#sk-container-id-1 div.sk-label:hover label.sk-toggleable__label {background-color: #d4ebff;}#sk-container-id-1 div.sk-serial::before {content: \"\";position: absolute;border-left: 1px solid gray;box-sizing: border-box;top: 0;bottom: 0;left: 50%;z-index: 0;}#sk-container-id-1 div.sk-serial {display: flex;flex-direction: column;align-items: center;background-color: white;padding-right: 0.2em;padding-left: 0.2em;position: relative;}#sk-container-id-1 div.sk-item {position: relative;z-index: 1;}#sk-container-id-1 div.sk-parallel {display: flex;align-items: stretch;justify-content: center;background-color: white;position: relative;}#sk-container-id-1 div.sk-item::before, #sk-container-id-1 div.sk-parallel-item::before {content: \"\";position: absolute;border-left: 1px solid gray;box-sizing: border-box;top: 0;bottom: 0;left: 50%;z-index: -1;}#sk-container-id-1 div.sk-parallel-item {display: flex;flex-direction: column;z-index: 1;position: relative;background-color: white;}#sk-container-id-1 div.sk-parallel-item:first-child::after {align-self: flex-end;width: 50%;}#sk-container-id-1 div.sk-parallel-item:last-child::after {align-self: flex-start;width: 50%;}#sk-container-id-1 div.sk-parallel-item:only-child::after {width: 0;}#sk-container-id-1 div.sk-dashed-wrapped {border: 1px dashed gray;margin: 0 0.4em 0.5em 0.4em;box-sizing: border-box;padding-bottom: 0.4em;background-color: white;}#sk-container-id-1 div.sk-label label {font-family: monospace;font-weight: bold;display: inline-block;line-height: 1.2em;}#sk-container-id-1 div.sk-label-container {text-align: center;}#sk-container-id-1 div.sk-container {/* jupyter's `normalize.less` sets `[hidden] { display: none; }` but bootstrap.min.css set `[hidden] { display: none !important; }` so we also need the `!important` here to be able to override the default hidden behavior on the sphinx rendered scikit-learn.org. See: https://github.com/scikit-learn/scikit-learn/issues/21755 */display: inline-block !important;position: relative;}#sk-container-id-1 div.sk-text-repr-fallback {display: none;}</style><div id=\"sk-container-id-1\" class=\"sk-top-container\"><div class=\"sk-text-repr-fallback\"><pre>LinearSVC(C=1, verbose=1)</pre><b>In a Jupyter environment, please rerun this cell to show the HTML representation or trust the notebook. <br />On GitHub, the HTML representation is unable to render, please try loading this page with nbviewer.org.</b></div><div class=\"sk-container\" hidden><div class=\"sk-item\"><div class=\"sk-estimator sk-toggleable\"><input class=\"sk-toggleable__control sk-hidden--visually\" id=\"sk-estimator-id-1\" type=\"checkbox\" checked><label for=\"sk-estimator-id-1\" class=\"sk-toggleable__label sk-toggleable__label-arrow\">LinearSVC</label><div class=\"sk-toggleable__content\"><pre>LinearSVC(C=1, verbose=1)</pre></div></div></div></div></div>"
      ],
      "text/plain": [
       "LinearSVC(C=1, verbose=1)"
      ]
     },
     "execution_count": 6,
     "metadata": {},
     "output_type": "execute_result"
    }
   ],
   "source": [
    "from sklearn.svm import LinearSVC\n",
    "\n",
    "ner_classifier = LinearSVC(C=1, verbose=1)\n",
    "ner_classifier.fit(feature_vectors_train_ner, train_labels_ner)\n"
   ]
  },
  {
   "cell_type": "code",
   "execution_count": 7,
   "metadata": {},
   "outputs": [
    {
     "name": "stdout",
     "output_type": "stream",
     "text": [
      "NER Model Accuracy: 0.9694326544916475\n"
     ]
    }
   ],
   "source": [
    "ner_accuracy = ner_classifier.score(feature_vectors_dev_ner, dev_labels_ner)\n",
    "print(\"NER Model Accuracy:\", ner_accuracy)\n"
   ]
  },
  {
   "cell_type": "code",
   "execution_count": 8,
   "metadata": {},
   "outputs": [],
   "source": [
    "def predict_named_entities(sentence, classifier, vectorizer):\n",
    "    sentence_data = [OneWord(w, \"wrong\", \"yellow\", \"red\") for w in sentence]\n",
    "    _, sentence_features = prep_data([sentence_data])\n",
    "    sentence_vectors = vectorizer.transform(sentence_features)\n",
    "    predictions = classifier.predict(sentence_vectors)\n",
    "    return list(zip(sentence, predictions))\n"
   ]
  },
  {
   "cell_type": "code",
   "execution_count": 9,
   "metadata": {},
   "outputs": [
    {
     "name": "stdout",
     "output_type": "stream",
     "text": [
      "[('Barack', 'B-PER'), ('Obama', 'B-PER'), ('was', 'O'), ('born', 'O'), ('in', 'O'), ('Hawaii', 'B-LOC'), ('.', 'O')]\n"
     ]
    }
   ],
   "source": [
    "sentence = \"Barack Obama was born in Hawaii .\".split()\n",
    "ner_predictions = predict_named_entities(sentence, ner_classifier, vectorizer_ner)\n",
    "print(ner_predictions)\n"
   ]
  },
  {
   "cell_type": "code",
   "execution_count": null,
   "metadata": {},
   "outputs": [],
   "source": []
  }
 ],
 "metadata": {
  "kernelspec": {
   "display_name": "Python 3",
   "language": "python",
   "name": "python3"
  },
  "language_info": {
   "codemirror_mode": {
    "name": "ipython",
    "version": 3
   },
   "file_extension": ".py",
   "mimetype": "text/x-python",
   "name": "python",
   "nbconvert_exporter": "python",
   "pygments_lexer": "ipython3",
   "version": "3.11.3"
  },
  "orig_nbformat": 4
 },
 "nbformat": 4,
 "nbformat_minor": 2
}
